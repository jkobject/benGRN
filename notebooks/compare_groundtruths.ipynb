{
 "cells": [
  {
   "cell_type": "code",
   "execution_count": 1,
   "metadata": {},
   "outputs": [],
   "source": [
    "import pandas as pd\n",
    "\n",
    "from bengrn import get_GT_db, get_perturb_gt, get_sroy_gt, BenGRN, FILEDIR\n",
    "\n",
    "import numpy as np\n",
    "import tqdm\n",
    "\n",
    "%load_ext autoreload\n",
    "%autoreload 2\n"
   ]
  },
  {
   "cell_type": "code",
   "execution_count": 2,
   "metadata": {},
   "outputs": [],
   "source": [
    "omni = get_GT_db('omnipath')"
   ]
  },
  {
   "cell_type": "code",
   "execution_count": 3,
   "metadata": {},
   "outputs": [
    {
     "data": {
      "text/html": [
       "<div>\n",
       "<style scoped>\n",
       "    .dataframe tbody tr th:only-of-type {\n",
       "        vertical-align: middle;\n",
       "    }\n",
       "\n",
       "    .dataframe tbody tr th {\n",
       "        vertical-align: top;\n",
       "    }\n",
       "\n",
       "    .dataframe thead th {\n",
       "        text-align: right;\n",
       "    }\n",
       "</style>\n",
       "<table border=\"1\" class=\"dataframe\">\n",
       "  <thead>\n",
       "    <tr style=\"text-align: right;\">\n",
       "      <th></th>\n",
       "      <th>source</th>\n",
       "      <th>target</th>\n",
       "      <th>is_directed</th>\n",
       "      <th>is_stimulation</th>\n",
       "      <th>is_inhibition</th>\n",
       "      <th>consensus_direction</th>\n",
       "      <th>consensus_stimulation</th>\n",
       "      <th>consensus_inhibition</th>\n",
       "      <th>curation_effort</th>\n",
       "      <th>references</th>\n",
       "      <th>sources</th>\n",
       "      <th>type</th>\n",
       "      <th>n_sources</th>\n",
       "      <th>n_primary_sources</th>\n",
       "      <th>n_references</th>\n",
       "      <th>references_stripped</th>\n",
       "    </tr>\n",
       "  </thead>\n",
       "  <tbody>\n",
       "    <tr>\n",
       "      <th>0</th>\n",
       "      <td>CALM1</td>\n",
       "      <td>TRPC1</td>\n",
       "      <td>True</td>\n",
       "      <td>False</td>\n",
       "      <td>True</td>\n",
       "      <td>True</td>\n",
       "      <td>False</td>\n",
       "      <td>True</td>\n",
       "      <td>3</td>\n",
       "      <td>TRIP:11290752;TRIP:11983166;TRIP:12601176</td>\n",
       "      <td>TRIP</td>\n",
       "      <td>post_translational</td>\n",
       "      <td>1</td>\n",
       "      <td>1</td>\n",
       "      <td>3.0</td>\n",
       "      <td>11290752;11983166;12601176</td>\n",
       "    </tr>\n",
       "    <tr>\n",
       "      <th>1</th>\n",
       "      <td>CALM3</td>\n",
       "      <td>TRPC1</td>\n",
       "      <td>True</td>\n",
       "      <td>False</td>\n",
       "      <td>True</td>\n",
       "      <td>True</td>\n",
       "      <td>False</td>\n",
       "      <td>True</td>\n",
       "      <td>3</td>\n",
       "      <td>TRIP:11290752;TRIP:11983166;TRIP:12601176</td>\n",
       "      <td>TRIP</td>\n",
       "      <td>post_translational</td>\n",
       "      <td>1</td>\n",
       "      <td>1</td>\n",
       "      <td>3.0</td>\n",
       "      <td>11290752;11983166;12601176</td>\n",
       "    </tr>\n",
       "    <tr>\n",
       "      <th>2</th>\n",
       "      <td>CALM2</td>\n",
       "      <td>TRPC1</td>\n",
       "      <td>True</td>\n",
       "      <td>False</td>\n",
       "      <td>True</td>\n",
       "      <td>True</td>\n",
       "      <td>False</td>\n",
       "      <td>True</td>\n",
       "      <td>3</td>\n",
       "      <td>TRIP:11290752;TRIP:11983166;TRIP:12601176</td>\n",
       "      <td>TRIP</td>\n",
       "      <td>post_translational</td>\n",
       "      <td>1</td>\n",
       "      <td>1</td>\n",
       "      <td>3.0</td>\n",
       "      <td>11290752;11983166;12601176</td>\n",
       "    </tr>\n",
       "    <tr>\n",
       "      <th>3</th>\n",
       "      <td>CAV1</td>\n",
       "      <td>TRPC1</td>\n",
       "      <td>True</td>\n",
       "      <td>True</td>\n",
       "      <td>False</td>\n",
       "      <td>True</td>\n",
       "      <td>True</td>\n",
       "      <td>False</td>\n",
       "      <td>13</td>\n",
       "      <td>DIP:19897728;HPRD:12732636;IntAct:19897728;Lit...</td>\n",
       "      <td>DIP;HPRD;IntAct;Lit-BM-17;TRIP</td>\n",
       "      <td>post_translational</td>\n",
       "      <td>5</td>\n",
       "      <td>5</td>\n",
       "      <td>8.0</td>\n",
       "      <td>10980191;12732636;14551243;16822931;18430726;1...</td>\n",
       "    </tr>\n",
       "    <tr>\n",
       "      <th>4</th>\n",
       "      <td>DRD2</td>\n",
       "      <td>TRPC1</td>\n",
       "      <td>True</td>\n",
       "      <td>True</td>\n",
       "      <td>False</td>\n",
       "      <td>True</td>\n",
       "      <td>True</td>\n",
       "      <td>False</td>\n",
       "      <td>1</td>\n",
       "      <td>TRIP:18261457</td>\n",
       "      <td>TRIP</td>\n",
       "      <td>post_translational</td>\n",
       "      <td>1</td>\n",
       "      <td>1</td>\n",
       "      <td>1.0</td>\n",
       "      <td>18261457</td>\n",
       "    </tr>\n",
       "    <tr>\n",
       "      <th>...</th>\n",
       "      <td>...</td>\n",
       "      <td>...</td>\n",
       "      <td>...</td>\n",
       "      <td>...</td>\n",
       "      <td>...</td>\n",
       "      <td>...</td>\n",
       "      <td>...</td>\n",
       "      <td>...</td>\n",
       "      <td>...</td>\n",
       "      <td>...</td>\n",
       "      <td>...</td>\n",
       "      <td>...</td>\n",
       "      <td>...</td>\n",
       "      <td>...</td>\n",
       "      <td>...</td>\n",
       "      <td>...</td>\n",
       "    </tr>\n",
       "    <tr>\n",
       "      <th>278574</th>\n",
       "      <td>TAF7</td>\n",
       "      <td>MIMAT0000075</td>\n",
       "      <td>True</td>\n",
       "      <td>False</td>\n",
       "      <td>False</td>\n",
       "      <td>False</td>\n",
       "      <td>False</td>\n",
       "      <td>False</td>\n",
       "      <td>0</td>\n",
       "      <td>None</td>\n",
       "      <td>ENCODE_tf-mirna</td>\n",
       "      <td>mirna_transcriptional</td>\n",
       "      <td>1</td>\n",
       "      <td>0</td>\n",
       "      <td>NaN</td>\n",
       "      <td>None</td>\n",
       "    </tr>\n",
       "    <tr>\n",
       "      <th>278575</th>\n",
       "      <td>RAD21</td>\n",
       "      <td>MIMAT0005867</td>\n",
       "      <td>True</td>\n",
       "      <td>False</td>\n",
       "      <td>False</td>\n",
       "      <td>False</td>\n",
       "      <td>False</td>\n",
       "      <td>False</td>\n",
       "      <td>0</td>\n",
       "      <td>None</td>\n",
       "      <td>ENCODE_tf-mirna</td>\n",
       "      <td>mirna_transcriptional</td>\n",
       "      <td>1</td>\n",
       "      <td>0</td>\n",
       "      <td>NaN</td>\n",
       "      <td>None</td>\n",
       "    </tr>\n",
       "    <tr>\n",
       "      <th>278576</th>\n",
       "      <td>P23511</td>\n",
       "      <td>MIMAT0003308</td>\n",
       "      <td>True</td>\n",
       "      <td>False</td>\n",
       "      <td>False</td>\n",
       "      <td>False</td>\n",
       "      <td>False</td>\n",
       "      <td>False</td>\n",
       "      <td>0</td>\n",
       "      <td>None</td>\n",
       "      <td>ENCODE_tf-mirna</td>\n",
       "      <td>mirna_transcriptional</td>\n",
       "      <td>1</td>\n",
       "      <td>0</td>\n",
       "      <td>NaN</td>\n",
       "      <td>None</td>\n",
       "    </tr>\n",
       "    <tr>\n",
       "      <th>278577</th>\n",
       "      <td>FOSL2</td>\n",
       "      <td>MIMAT0005867</td>\n",
       "      <td>True</td>\n",
       "      <td>False</td>\n",
       "      <td>False</td>\n",
       "      <td>False</td>\n",
       "      <td>False</td>\n",
       "      <td>False</td>\n",
       "      <td>0</td>\n",
       "      <td>None</td>\n",
       "      <td>ENCODE_tf-mirna</td>\n",
       "      <td>mirna_transcriptional</td>\n",
       "      <td>1</td>\n",
       "      <td>0</td>\n",
       "      <td>NaN</td>\n",
       "      <td>None</td>\n",
       "    </tr>\n",
       "    <tr>\n",
       "      <th>278578</th>\n",
       "      <td>SMARCB1</td>\n",
       "      <td>MIMAT0004491</td>\n",
       "      <td>True</td>\n",
       "      <td>False</td>\n",
       "      <td>False</td>\n",
       "      <td>False</td>\n",
       "      <td>False</td>\n",
       "      <td>False</td>\n",
       "      <td>0</td>\n",
       "      <td>None</td>\n",
       "      <td>ENCODE_tf-mirna</td>\n",
       "      <td>mirna_transcriptional</td>\n",
       "      <td>1</td>\n",
       "      <td>0</td>\n",
       "      <td>NaN</td>\n",
       "      <td>None</td>\n",
       "    </tr>\n",
       "  </tbody>\n",
       "</table>\n",
       "<p>278579 rows × 16 columns</p>\n",
       "</div>"
      ],
      "text/plain": [
       "         source        target  is_directed  is_stimulation  is_inhibition  \\\n",
       "0         CALM1         TRPC1         True           False           True   \n",
       "1         CALM3         TRPC1         True           False           True   \n",
       "2         CALM2         TRPC1         True           False           True   \n",
       "3          CAV1         TRPC1         True            True          False   \n",
       "4          DRD2         TRPC1         True            True          False   \n",
       "...         ...           ...          ...             ...            ...   \n",
       "278574     TAF7  MIMAT0000075         True           False          False   \n",
       "278575    RAD21  MIMAT0005867         True           False          False   \n",
       "278576   P23511  MIMAT0003308         True           False          False   \n",
       "278577    FOSL2  MIMAT0005867         True           False          False   \n",
       "278578  SMARCB1  MIMAT0004491         True           False          False   \n",
       "\n",
       "        consensus_direction  consensus_stimulation  consensus_inhibition  \\\n",
       "0                      True                  False                  True   \n",
       "1                      True                  False                  True   \n",
       "2                      True                  False                  True   \n",
       "3                      True                   True                 False   \n",
       "4                      True                   True                 False   \n",
       "...                     ...                    ...                   ...   \n",
       "278574                False                  False                 False   \n",
       "278575                False                  False                 False   \n",
       "278576                False                  False                 False   \n",
       "278577                False                  False                 False   \n",
       "278578                False                  False                 False   \n",
       "\n",
       "        curation_effort                                         references  \\\n",
       "0                     3          TRIP:11290752;TRIP:11983166;TRIP:12601176   \n",
       "1                     3          TRIP:11290752;TRIP:11983166;TRIP:12601176   \n",
       "2                     3          TRIP:11290752;TRIP:11983166;TRIP:12601176   \n",
       "3                    13  DIP:19897728;HPRD:12732636;IntAct:19897728;Lit...   \n",
       "4                     1                                      TRIP:18261457   \n",
       "...                 ...                                                ...   \n",
       "278574                0                                               None   \n",
       "278575                0                                               None   \n",
       "278576                0                                               None   \n",
       "278577                0                                               None   \n",
       "278578                0                                               None   \n",
       "\n",
       "                               sources                   type  n_sources  \\\n",
       "0                                 TRIP     post_translational          1   \n",
       "1                                 TRIP     post_translational          1   \n",
       "2                                 TRIP     post_translational          1   \n",
       "3       DIP;HPRD;IntAct;Lit-BM-17;TRIP     post_translational          5   \n",
       "4                                 TRIP     post_translational          1   \n",
       "...                                ...                    ...        ...   \n",
       "278574                 ENCODE_tf-mirna  mirna_transcriptional          1   \n",
       "278575                 ENCODE_tf-mirna  mirna_transcriptional          1   \n",
       "278576                 ENCODE_tf-mirna  mirna_transcriptional          1   \n",
       "278577                 ENCODE_tf-mirna  mirna_transcriptional          1   \n",
       "278578                 ENCODE_tf-mirna  mirna_transcriptional          1   \n",
       "\n",
       "        n_primary_sources  n_references  \\\n",
       "0                       1           3.0   \n",
       "1                       1           3.0   \n",
       "2                       1           3.0   \n",
       "3                       5           8.0   \n",
       "4                       1           1.0   \n",
       "...                   ...           ...   \n",
       "278574                  0           NaN   \n",
       "278575                  0           NaN   \n",
       "278576                  0           NaN   \n",
       "278577                  0           NaN   \n",
       "278578                  0           NaN   \n",
       "\n",
       "                                      references_stripped  \n",
       "0                              11290752;11983166;12601176  \n",
       "1                              11290752;11983166;12601176  \n",
       "2                              11290752;11983166;12601176  \n",
       "3       10980191;12732636;14551243;16822931;18430726;1...  \n",
       "4                                                18261457  \n",
       "...                                                   ...  \n",
       "278574                                               None  \n",
       "278575                                               None  \n",
       "278576                                               None  \n",
       "278577                                               None  \n",
       "278578                                               None  \n",
       "\n",
       "[278579 rows x 16 columns]"
      ]
     },
     "execution_count": 3,
     "metadata": {},
     "output_type": "execute_result"
    }
   ],
   "source": [
    "omni"
   ]
  },
  {
   "cell_type": "code",
   "execution_count": 4,
   "metadata": {},
   "outputs": [],
   "source": [
    "varnames = set(omni.iloc[:, :2].values.flatten())\n",
    "varnames = list(varnames)"
   ]
  },
  {
   "cell_type": "code",
   "execution_count": 5,
   "metadata": {},
   "outputs": [
    {
     "name": "stderr",
     "output_type": "stream",
     "text": [
      "100%|██████████| 278579/278579 [02:57<00:00, 1573.35it/s]\n"
     ]
    }
   ],
   "source": [
    "da = np.zeros((len(varnames), len(varnames)), dtype=float)\n",
    "for i, j in tqdm.tqdm(omni.iloc[:, :2].values):\n",
    "    if i in varnames and j in varnames:\n",
    "        da[varnames.index(i), varnames.index(j)] = 1"
   ]
  },
  {
   "cell_type": "code",
   "execution_count": 15,
   "metadata": {},
   "outputs": [
    {
     "data": {
      "text/plain": [
       "8896"
      ]
     },
     "execution_count": 15,
     "metadata": {},
     "output_type": "execute_result"
    }
   ],
   "source": [
    "(da.sum(1)>0).sum()"
   ]
  },
  {
   "cell_type": "code",
   "execution_count": null,
   "metadata": {},
   "outputs": [],
   "source": [
    "(da.sum(1)>0).sum()"
   ]
  },
  {
   "cell_type": "code",
   "execution_count": null,
   "metadata": {},
   "outputs": [
    {
     "data": {
      "text/plain": [
       "230678.0"
      ]
     },
     "execution_count": 61,
     "metadata": {},
     "output_type": "execute_result"
    }
   ],
   "source": [
    "da.sum()"
   ]
  },
  {
   "cell_type": "code",
   "execution_count": null,
   "metadata": {},
   "outputs": [
    {
     "data": {
      "text/plain": [
       "12.161429776465626"
      ]
     },
     "execution_count": 69,
     "metadata": {},
     "output_type": "execute_result"
    }
   ],
   "source": [
    "da.sum(1).mean()"
   ]
  },
  {
   "cell_type": "code",
   "execution_count": null,
   "metadata": {},
   "outputs": [
    {
     "data": {
      "text/plain": [
       "0"
      ]
     },
     "execution_count": 74,
     "metadata": {},
     "output_type": "execute_result"
    }
   ],
   "source": [
    "(da.sum(0)> 1000).sum()"
   ]
  },
  {
   "cell_type": "code",
   "execution_count": null,
   "metadata": {},
   "outputs": [
    {
     "data": {
      "text/plain": [
       "550"
      ]
     },
     "execution_count": 75,
     "metadata": {},
     "output_type": "execute_result"
    }
   ],
   "source": [
    "(da.sum(0)> 100).sum()"
   ]
  },
  {
   "cell_type": "code",
   "execution_count": null,
   "metadata": {},
   "outputs": [
    {
     "data": {
      "text/plain": [
       "4430"
      ]
     },
     "execution_count": 76,
     "metadata": {},
     "output_type": "execute_result"
    }
   ],
   "source": [
    "(da.sum(0)> 10).sum()"
   ]
  },
  {
   "cell_type": "code",
   "execution_count": null,
   "metadata": {},
   "outputs": [
    {
     "data": {
      "text/plain": [
       "15"
      ]
     },
     "execution_count": 72,
     "metadata": {},
     "output_type": "execute_result"
    }
   ],
   "source": [
    "(da.sum(1)> 1000).sum()"
   ]
  },
  {
   "cell_type": "code",
   "execution_count": null,
   "metadata": {},
   "outputs": [
    {
     "data": {
      "text/plain": [
       "436"
      ]
     },
     "execution_count": 73,
     "metadata": {},
     "output_type": "execute_result"
    }
   ],
   "source": [
    "(da.sum(1)> 100).sum()"
   ]
  },
  {
   "cell_type": "code",
   "execution_count": null,
   "metadata": {},
   "outputs": [
    {
     "data": {
      "text/plain": [
       "2255"
      ]
     },
     "execution_count": 70,
     "metadata": {},
     "output_type": "execute_result"
    }
   ],
   "source": [
    "(da.sum(1)> 10).sum()"
   ]
  },
  {
   "cell_type": "code",
   "execution_count": null,
   "metadata": {},
   "outputs": [
    {
     "data": {
      "text/plain": [
       "(18968, 18968)"
      ]
     },
     "execution_count": 87,
     "metadata": {},
     "output_type": "execute_result"
    }
   ],
   "source": [
    "da.sum(0)>0"
   ]
  },
  {
   "cell_type": "code",
   "execution_count": 40,
   "metadata": {},
   "outputs": [
    {
     "data": {
      "image/png": "[encoded data removed]",
      "text/plain": [
       "<Figure size 640x480 with 1 Axes>"
      ]
     },
     "metadata": {},
     "output_type": "display_data"
    }
   ],
   "source": [
    "import seaborn as sns\n",
    "import matplotlib.pyplot as plt\n",
    "\n",
    "values = da.sum(1)\n",
    "sns.histplot(values, bins=100, log_scale=(True, False), fill=True)\n",
    "plt.title('Distribution of Values (Log Scale)')\n",
    "plt.xlabel('Value')\n",
    "plt.ylabel('Frequency')\n",
    "plt.yscale('log')\n",
    "plt.show()\n"
   ]
  },
  {
   "cell_type": "code",
   "execution_count": null,
   "metadata": {},
   "outputs": [],
   "source": [
    "df = pd.read_csv(\n",
    "                FILEDIR + \"/../data/GroundTruth/stone_and_sroy/hESC_ground_truth.tsv\",\n",
    "                sep=\"\\t\",\n",
    "                header=None,\n",
    "            )"
   ]
  },
  {
   "cell_type": "code",
   "execution_count": null,
   "metadata": {},
   "outputs": [],
   "source": [
    "omnilist = set((i,j) for i,j in omni.iloc[:,0:2].values)"
   ]
  },
  {
   "cell_type": "code",
   "execution_count": null,
   "metadata": {},
   "outputs": [
    {
     "data": {
      "text/html": [
       "<div>\n",
       "<style scoped>\n",
       "    .dataframe tbody tr th:only-of-type {\n",
       "        vertical-align: middle;\n",
       "    }\n",
       "\n",
       "    .dataframe tbody tr th {\n",
       "        vertical-align: top;\n",
       "    }\n",
       "\n",
       "    .dataframe thead th {\n",
       "        text-align: right;\n",
       "    }\n",
       "</style>\n",
       "<table border=\"1\" class=\"dataframe\">\n",
       "  <thead>\n",
       "    <tr style=\"text-align: right;\">\n",
       "      <th></th>\n",
       "      <th>0</th>\n",
       "      <th>1</th>\n",
       "    </tr>\n",
       "  </thead>\n",
       "  <tbody>\n",
       "    <tr>\n",
       "      <th>0</th>\n",
       "      <td>ATF3</td>\n",
       "      <td>ABHD3</td>\n",
       "    </tr>\n",
       "    <tr>\n",
       "      <th>1</th>\n",
       "      <td>ATF3</td>\n",
       "      <td>AP3M2</td>\n",
       "    </tr>\n",
       "    <tr>\n",
       "      <th>2</th>\n",
       "      <td>ATF3</td>\n",
       "      <td>APBB3</td>\n",
       "    </tr>\n",
       "    <tr>\n",
       "      <th>3</th>\n",
       "      <td>ATF3</td>\n",
       "      <td>ARHGAP8</td>\n",
       "    </tr>\n",
       "    <tr>\n",
       "      <th>4</th>\n",
       "      <td>ATF3</td>\n",
       "      <td>ARHGEF3</td>\n",
       "    </tr>\n",
       "    <tr>\n",
       "      <th>...</th>\n",
       "      <td>...</td>\n",
       "      <td>...</td>\n",
       "    </tr>\n",
       "    <tr>\n",
       "      <th>12981</th>\n",
       "      <td>ZNF281</td>\n",
       "      <td>TMEM2</td>\n",
       "    </tr>\n",
       "    <tr>\n",
       "      <th>12982</th>\n",
       "      <td>ZNF281</td>\n",
       "      <td>UCHL1</td>\n",
       "    </tr>\n",
       "    <tr>\n",
       "      <th>12983</th>\n",
       "      <td>ZNF281</td>\n",
       "      <td>UPP1</td>\n",
       "    </tr>\n",
       "    <tr>\n",
       "      <th>12984</th>\n",
       "      <td>ZNF281</td>\n",
       "      <td>WSB2</td>\n",
       "    </tr>\n",
       "    <tr>\n",
       "      <th>12985</th>\n",
       "      <td>ZNF281</td>\n",
       "      <td>ZMYND8</td>\n",
       "    </tr>\n",
       "  </tbody>\n",
       "</table>\n",
       "<p>12986 rows × 2 columns</p>\n",
       "</div>"
      ],
      "text/plain": [
       "            0        1\n",
       "0        ATF3    ABHD3\n",
       "1        ATF3    AP3M2\n",
       "2        ATF3    APBB3\n",
       "3        ATF3  ARHGAP8\n",
       "4        ATF3  ARHGEF3\n",
       "...       ...      ...\n",
       "12981  ZNF281    TMEM2\n",
       "12982  ZNF281    UCHL1\n",
       "12983  ZNF281     UPP1\n",
       "12984  ZNF281     WSB2\n",
       "12985  ZNF281   ZMYND8\n",
       "\n",
       "[12986 rows x 2 columns]"
      ]
     },
     "execution_count": 9,
     "metadata": {},
     "output_type": "execute_result"
    }
   ],
   "source": [
    "df"
   ]
  },
  {
   "cell_type": "code",
   "execution_count": null,
   "metadata": {},
   "outputs": [],
   "source": [
    "sroylist = set((i,j) for i,j in df.values)"
   ]
  },
  {
   "cell_type": "code",
   "execution_count": null,
   "metadata": {},
   "outputs": [],
   "source": [
    "sroylist_t = set((j,i) for i,j in df.values)"
   ]
  },
  {
   "cell_type": "code",
   "execution_count": null,
   "metadata": {},
   "outputs": [
    {
     "data": {
      "text/plain": [
       "(12986, 273556, 388, 273168)"
      ]
     },
     "execution_count": 15,
     "metadata": {},
     "output_type": "execute_result"
    }
   ],
   "source": [
    "len(sroylist), len(omnilist), len(sroylist & omnilist), len(omnilist - sroylist)"
   ]
  },
  {
   "cell_type": "code",
   "execution_count": null,
   "metadata": {},
   "outputs": [
    {
     "data": {
      "text/plain": [
       "(112, 273444)"
      ]
     },
     "execution_count": 14,
     "metadata": {},
     "output_type": "execute_result"
    }
   ],
   "source": [
    "len(sroylist_t & omnilist), len(omnilist - sroylist_t)"
   ]
  },
  {
   "cell_type": "code",
   "execution_count": null,
   "metadata": {},
   "outputs": [
    {
     "data": {
      "text/plain": [
       "37"
      ]
     },
     "execution_count": 16,
     "metadata": {},
     "output_type": "execute_result"
    }
   ],
   "source": [
    "len(sroylist_t & sroylist)"
   ]
  },
  {
   "cell_type": "code",
   "execution_count": null,
   "metadata": {},
   "outputs": [
    {
     "data": {
      "text/html": [
       "<div>\n",
       "<style scoped>\n",
       "    .dataframe tbody tr th:only-of-type {\n",
       "        vertical-align: middle;\n",
       "    }\n",
       "\n",
       "    .dataframe tbody tr th {\n",
       "        vertical-align: top;\n",
       "    }\n",
       "\n",
       "    .dataframe thead th {\n",
       "        text-align: right;\n",
       "    }\n",
       "</style>\n",
       "<table border=\"1\" class=\"dataframe\">\n",
       "  <thead>\n",
       "    <tr style=\"text-align: right;\">\n",
       "      <th></th>\n",
       "      <th>source</th>\n",
       "      <th>target</th>\n",
       "      <th>is_directed</th>\n",
       "      <th>is_stimulation</th>\n",
       "      <th>is_inhibition</th>\n",
       "      <th>consensus_direction</th>\n",
       "      <th>consensus_stimulation</th>\n",
       "      <th>consensus_inhibition</th>\n",
       "      <th>curation_effort</th>\n",
       "      <th>references</th>\n",
       "      <th>sources</th>\n",
       "      <th>type</th>\n",
       "      <th>n_sources</th>\n",
       "      <th>n_primary_sources</th>\n",
       "      <th>n_references</th>\n",
       "      <th>references_stripped</th>\n",
       "    </tr>\n",
       "  </thead>\n",
       "  <tbody>\n",
       "    <tr>\n",
       "      <th>0</th>\n",
       "      <td>CALM1</td>\n",
       "      <td>TRPC1</td>\n",
       "      <td>True</td>\n",
       "      <td>False</td>\n",
       "      <td>True</td>\n",
       "      <td>True</td>\n",
       "      <td>False</td>\n",
       "      <td>True</td>\n",
       "      <td>3</td>\n",
       "      <td>TRIP:11290752;TRIP:11983166;TRIP:12601176</td>\n",
       "      <td>TRIP</td>\n",
       "      <td>post_translational</td>\n",
       "      <td>1</td>\n",
       "      <td>1</td>\n",
       "      <td>3.0</td>\n",
       "      <td>11290752;11983166;12601176</td>\n",
       "    </tr>\n",
       "    <tr>\n",
       "      <th>1</th>\n",
       "      <td>CALM3</td>\n",
       "      <td>TRPC1</td>\n",
       "      <td>True</td>\n",
       "      <td>False</td>\n",
       "      <td>True</td>\n",
       "      <td>True</td>\n",
       "      <td>False</td>\n",
       "      <td>True</td>\n",
       "      <td>3</td>\n",
       "      <td>TRIP:11290752;TRIP:11983166;TRIP:12601176</td>\n",
       "      <td>TRIP</td>\n",
       "      <td>post_translational</td>\n",
       "      <td>1</td>\n",
       "      <td>1</td>\n",
       "      <td>3.0</td>\n",
       "      <td>11290752;11983166;12601176</td>\n",
       "    </tr>\n",
       "    <tr>\n",
       "      <th>2</th>\n",
       "      <td>CALM2</td>\n",
       "      <td>TRPC1</td>\n",
       "      <td>True</td>\n",
       "      <td>False</td>\n",
       "      <td>True</td>\n",
       "      <td>True</td>\n",
       "      <td>False</td>\n",
       "      <td>True</td>\n",
       "      <td>3</td>\n",
       "      <td>TRIP:11290752;TRIP:11983166;TRIP:12601176</td>\n",
       "      <td>TRIP</td>\n",
       "      <td>post_translational</td>\n",
       "      <td>1</td>\n",
       "      <td>1</td>\n",
       "      <td>3.0</td>\n",
       "      <td>11290752;11983166;12601176</td>\n",
       "    </tr>\n",
       "    <tr>\n",
       "      <th>3</th>\n",
       "      <td>CAV1</td>\n",
       "      <td>TRPC1</td>\n",
       "      <td>True</td>\n",
       "      <td>True</td>\n",
       "      <td>False</td>\n",
       "      <td>True</td>\n",
       "      <td>True</td>\n",
       "      <td>False</td>\n",
       "      <td>13</td>\n",
       "      <td>DIP:19897728;HPRD:12732636;IntAct:19897728;Lit...</td>\n",
       "      <td>DIP;HPRD;IntAct;Lit-BM-17;TRIP</td>\n",
       "      <td>post_translational</td>\n",
       "      <td>5</td>\n",
       "      <td>5</td>\n",
       "      <td>8.0</td>\n",
       "      <td>10980191;12732636;14551243;16822931;18430726;1...</td>\n",
       "    </tr>\n",
       "    <tr>\n",
       "      <th>4</th>\n",
       "      <td>DRD2</td>\n",
       "      <td>TRPC1</td>\n",
       "      <td>True</td>\n",
       "      <td>True</td>\n",
       "      <td>False</td>\n",
       "      <td>True</td>\n",
       "      <td>True</td>\n",
       "      <td>False</td>\n",
       "      <td>1</td>\n",
       "      <td>TRIP:18261457</td>\n",
       "      <td>TRIP</td>\n",
       "      <td>post_translational</td>\n",
       "      <td>1</td>\n",
       "      <td>1</td>\n",
       "      <td>1.0</td>\n",
       "      <td>18261457</td>\n",
       "    </tr>\n",
       "    <tr>\n",
       "      <th>...</th>\n",
       "      <td>...</td>\n",
       "      <td>...</td>\n",
       "      <td>...</td>\n",
       "      <td>...</td>\n",
       "      <td>...</td>\n",
       "      <td>...</td>\n",
       "      <td>...</td>\n",
       "      <td>...</td>\n",
       "      <td>...</td>\n",
       "      <td>...</td>\n",
       "      <td>...</td>\n",
       "      <td>...</td>\n",
       "      <td>...</td>\n",
       "      <td>...</td>\n",
       "      <td>...</td>\n",
       "      <td>...</td>\n",
       "    </tr>\n",
       "    <tr>\n",
       "      <th>278574</th>\n",
       "      <td>TAF7</td>\n",
       "      <td>MIMAT0000075</td>\n",
       "      <td>True</td>\n",
       "      <td>False</td>\n",
       "      <td>False</td>\n",
       "      <td>False</td>\n",
       "      <td>False</td>\n",
       "      <td>False</td>\n",
       "      <td>0</td>\n",
       "      <td>None</td>\n",
       "      <td>ENCODE_tf-mirna</td>\n",
       "      <td>mirna_transcriptional</td>\n",
       "      <td>1</td>\n",
       "      <td>0</td>\n",
       "      <td>NaN</td>\n",
       "      <td>None</td>\n",
       "    </tr>\n",
       "    <tr>\n",
       "      <th>278575</th>\n",
       "      <td>RAD21</td>\n",
       "      <td>MIMAT0005867</td>\n",
       "      <td>True</td>\n",
       "      <td>False</td>\n",
       "      <td>False</td>\n",
       "      <td>False</td>\n",
       "      <td>False</td>\n",
       "      <td>False</td>\n",
       "      <td>0</td>\n",
       "      <td>None</td>\n",
       "      <td>ENCODE_tf-mirna</td>\n",
       "      <td>mirna_transcriptional</td>\n",
       "      <td>1</td>\n",
       "      <td>0</td>\n",
       "      <td>NaN</td>\n",
       "      <td>None</td>\n",
       "    </tr>\n",
       "    <tr>\n",
       "      <th>278576</th>\n",
       "      <td>P23511</td>\n",
       "      <td>MIMAT0003308</td>\n",
       "      <td>True</td>\n",
       "      <td>False</td>\n",
       "      <td>False</td>\n",
       "      <td>False</td>\n",
       "      <td>False</td>\n",
       "      <td>False</td>\n",
       "      <td>0</td>\n",
       "      <td>None</td>\n",
       "      <td>ENCODE_tf-mirna</td>\n",
       "      <td>mirna_transcriptional</td>\n",
       "      <td>1</td>\n",
       "      <td>0</td>\n",
       "      <td>NaN</td>\n",
       "      <td>None</td>\n",
       "    </tr>\n",
       "    <tr>\n",
       "      <th>278577</th>\n",
       "      <td>FOSL2</td>\n",
       "      <td>MIMAT0005867</td>\n",
       "      <td>True</td>\n",
       "      <td>False</td>\n",
       "      <td>False</td>\n",
       "      <td>False</td>\n",
       "      <td>False</td>\n",
       "      <td>False</td>\n",
       "      <td>0</td>\n",
       "      <td>None</td>\n",
       "      <td>ENCODE_tf-mirna</td>\n",
       "      <td>mirna_transcriptional</td>\n",
       "      <td>1</td>\n",
       "      <td>0</td>\n",
       "      <td>NaN</td>\n",
       "      <td>None</td>\n",
       "    </tr>\n",
       "    <tr>\n",
       "      <th>278578</th>\n",
       "      <td>SMARCB1</td>\n",
       "      <td>MIMAT0004491</td>\n",
       "      <td>True</td>\n",
       "      <td>False</td>\n",
       "      <td>False</td>\n",
       "      <td>False</td>\n",
       "      <td>False</td>\n",
       "      <td>False</td>\n",
       "      <td>0</td>\n",
       "      <td>None</td>\n",
       "      <td>ENCODE_tf-mirna</td>\n",
       "      <td>mirna_transcriptional</td>\n",
       "      <td>1</td>\n",
       "      <td>0</td>\n",
       "      <td>NaN</td>\n",
       "      <td>None</td>\n",
       "    </tr>\n",
       "  </tbody>\n",
       "</table>\n",
       "<p>278579 rows × 16 columns</p>\n",
       "</div>"
      ],
      "text/plain": [
       "         source        target  is_directed  is_stimulation  is_inhibition  \\\n",
       "0         CALM1         TRPC1         True           False           True   \n",
       "1         CALM3         TRPC1         True           False           True   \n",
       "2         CALM2         TRPC1         True           False           True   \n",
       "3          CAV1         TRPC1         True            True          False   \n",
       "4          DRD2         TRPC1         True            True          False   \n",
       "...         ...           ...          ...             ...            ...   \n",
       "278574     TAF7  MIMAT0000075         True           False          False   \n",
       "278575    RAD21  MIMAT0005867         True           False          False   \n",
       "278576   P23511  MIMAT0003308         True           False          False   \n",
       "278577    FOSL2  MIMAT0005867         True           False          False   \n",
       "278578  SMARCB1  MIMAT0004491         True           False          False   \n",
       "\n",
       "        consensus_direction  consensus_stimulation  consensus_inhibition  \\\n",
       "0                      True                  False                  True   \n",
       "1                      True                  False                  True   \n",
       "2                      True                  False                  True   \n",
       "3                      True                   True                 False   \n",
       "4                      True                   True                 False   \n",
       "...                     ...                    ...                   ...   \n",
       "278574                False                  False                 False   \n",
       "278575                False                  False                 False   \n",
       "278576                False                  False                 False   \n",
       "278577                False                  False                 False   \n",
       "278578                False                  False                 False   \n",
       "\n",
       "        curation_effort                                         references  \\\n",
       "0                     3          TRIP:11290752;TRIP:11983166;TRIP:12601176   \n",
       "1                     3          TRIP:11290752;TRIP:11983166;TRIP:12601176   \n",
       "2                     3          TRIP:11290752;TRIP:11983166;TRIP:12601176   \n",
       "3                    13  DIP:19897728;HPRD:12732636;IntAct:19897728;Lit...   \n",
       "4                     1                                      TRIP:18261457   \n",
       "...                 ...                                                ...   \n",
       "278574                0                                               None   \n",
       "278575                0                                               None   \n",
       "278576                0                                               None   \n",
       "278577                0                                               None   \n",
       "278578                0                                               None   \n",
       "\n",
       "                               sources                   type  n_sources  \\\n",
       "0                                 TRIP     post_translational          1   \n",
       "1                                 TRIP     post_translational          1   \n",
       "2                                 TRIP     post_translational          1   \n",
       "3       DIP;HPRD;IntAct;Lit-BM-17;TRIP     post_translational          5   \n",
       "4                                 TRIP     post_translational          1   \n",
       "...                                ...                    ...        ...   \n",
       "278574                 ENCODE_tf-mirna  mirna_transcriptional          1   \n",
       "278575                 ENCODE_tf-mirna  mirna_transcriptional          1   \n",
       "278576                 ENCODE_tf-mirna  mirna_transcriptional          1   \n",
       "278577                 ENCODE_tf-mirna  mirna_transcriptional          1   \n",
       "278578                 ENCODE_tf-mirna  mirna_transcriptional          1   \n",
       "\n",
       "        n_primary_sources  n_references  \\\n",
       "0                       1           3.0   \n",
       "1                       1           3.0   \n",
       "2                       1           3.0   \n",
       "3                       5           8.0   \n",
       "4                       1           1.0   \n",
       "...                   ...           ...   \n",
       "278574                  0           NaN   \n",
       "278575                  0           NaN   \n",
       "278576                  0           NaN   \n",
       "278577                  0           NaN   \n",
       "278578                  0           NaN   \n",
       "\n",
       "                                      references_stripped  \n",
       "0                              11290752;11983166;12601176  \n",
       "1                              11290752;11983166;12601176  \n",
       "2                              11290752;11983166;12601176  \n",
       "3       10980191;12732636;14551243;16822931;18430726;1...  \n",
       "4                                                18261457  \n",
       "...                                                   ...  \n",
       "278574                                               None  \n",
       "278575                                               None  \n",
       "278576                                               None  \n",
       "278577                                               None  \n",
       "278578                                               None  \n",
       "\n",
       "[278579 rows x 16 columns]"
      ]
     },
     "execution_count": 5,
     "metadata": {},
     "output_type": "execute_result"
    }
   ],
   "source": [
    "omni"
   ]
  },
  {
   "cell_type": "code",
   "execution_count": null,
   "metadata": {},
   "outputs": [],
   "source": [
    "#SROY\n",
    "sroy = get_sroy_gt(get=\"han\")\n",
    "sroy.var['symbol'] = sroy.var.index"
   ]
  },
  {
   "cell_type": "code",
   "execution_count": 4,
   "metadata": {},
   "outputs": [
    {
     "ename": "ValueError",
     "evalue": "Reading with filekey 'gwps' failed, the inferred filename PosixPath('write/gwps.h5ad') does not exist. If you intended to provide a filename, either use a filename ending on one of the available extensions {'txt', 'tsv', 'csv', 'mtx', 'mtx.gz', 'soft.gz', 'loom', 'anndata', 'h5ad', 'h5', 'tab', 'data', 'xlsx'} or pass the parameter `ext`.",
     "output_type": "error",
     "traceback": [
      "\u001b[0;31m---------------------------------------------------------------------------\u001b[0m",
      "\u001b[0;31mValueError\u001b[0m                                Traceback (most recent call last)",
      "Cell \u001b[0;32mIn[4], line 1\u001b[0m\n\u001b[0;32m----> 1\u001b[0m gwps \u001b[38;5;241m=\u001b[39m \u001b[43mget_perturb_gt\u001b[49m\u001b[43m(\u001b[49m\u001b[38;5;124;43m'\u001b[39;49m\u001b[38;5;124;43mgwps\u001b[39;49m\u001b[38;5;124;43m'\u001b[39;49m\u001b[43m)\u001b[49m\n\u001b[1;32m      2\u001b[0m gwps\u001b[38;5;241m.\u001b[39mvar[\u001b[38;5;124m'\u001b[39m\u001b[38;5;124msymbol\u001b[39m\u001b[38;5;124m'\u001b[39m] \u001b[38;5;241m=\u001b[39m gwps\u001b[38;5;241m.\u001b[39mvar\u001b[38;5;241m.\u001b[39mgene_name\n",
      "File \u001b[0;32m~/Documents code/benGRN/bengrn/base.py:665\u001b[0m, in \u001b[0;36mget_perturb_gt\u001b[0;34m(filename_adata, filename_bh, url_adata, url_bh)\u001b[0m\n\u001b[1;32m    663\u001b[0m pert \u001b[38;5;241m=\u001b[39m pert[\u001b[38;5;241m~\u001b[39mpert\u001b[38;5;241m.\u001b[39mindex\u001b[38;5;241m.\u001b[39mduplicated(keep\u001b[38;5;241m=\u001b[39m\u001b[38;5;124m\"\u001b[39m\u001b[38;5;124mfirst\u001b[39m\u001b[38;5;124m\"\u001b[39m)]\u001b[38;5;241m.\u001b[39mT\n\u001b[1;32m    664\u001b[0m pert \u001b[38;5;241m=\u001b[39m pert \u001b[38;5;241m<\u001b[39m \u001b[38;5;241m0.05\u001b[39m\n\u001b[0;32m--> 665\u001b[0m adata_sc \u001b[38;5;241m=\u001b[39m \u001b[43msc\u001b[49m\u001b[38;5;241;43m.\u001b[39;49m\u001b[43mread\u001b[49m\u001b[43m(\u001b[49m\n\u001b[1;32m    666\u001b[0m \u001b[43m    \u001b[49m\u001b[43mfilename_adata\u001b[49m\u001b[43m,\u001b[49m\n\u001b[1;32m    667\u001b[0m \u001b[43m    \u001b[49m\u001b[43mbackup_url\u001b[49m\u001b[38;5;241;43m=\u001b[39;49m\u001b[43murl_adata\u001b[49m\u001b[43m,\u001b[49m\n\u001b[1;32m    668\u001b[0m \u001b[43m\u001b[49m\u001b[43m)\u001b[49m\n\u001b[1;32m    669\u001b[0m adata_sc \u001b[38;5;241m=\u001b[39m adata_sc[adata_sc\u001b[38;5;241m.\u001b[39mobs\u001b[38;5;241m.\u001b[39mgene_id \u001b[38;5;241m==\u001b[39m \u001b[38;5;124m\"\u001b[39m\u001b[38;5;124mnon-targeting\u001b[39m\u001b[38;5;124m\"\u001b[39m]\n\u001b[1;32m    670\u001b[0m adata_sc[:, adata_sc\u001b[38;5;241m.\u001b[39mvar\u001b[38;5;241m.\u001b[39mindex\u001b[38;5;241m.\u001b[39misin(\u001b[38;5;28mset\u001b[39m(pert\u001b[38;5;241m.\u001b[39mindex) \u001b[38;5;241m|\u001b[39m \u001b[38;5;28mset\u001b[39m(pert\u001b[38;5;241m.\u001b[39mcolumns))]\n",
      "File \u001b[0;32m~/miniconda3/envs/scprnt2/lib/python3.10/site-packages/legacy_api_wrap/__init__.py:82\u001b[0m, in \u001b[0;36mlegacy_api.<locals>.wrapper.<locals>.fn_compatible\u001b[0;34m(*args_all, **kw)\u001b[0m\n\u001b[1;32m     79\u001b[0m \u001b[38;5;129m@wraps\u001b[39m(fn)\n\u001b[1;32m     80\u001b[0m \u001b[38;5;28;01mdef\u001b[39;00m\u001b[38;5;250m \u001b[39m\u001b[38;5;21mfn_compatible\u001b[39m(\u001b[38;5;241m*\u001b[39margs_all: P\u001b[38;5;241m.\u001b[39margs, \u001b[38;5;241m*\u001b[39m\u001b[38;5;241m*\u001b[39mkw: P\u001b[38;5;241m.\u001b[39mkwargs) \u001b[38;5;241m-\u001b[39m\u001b[38;5;241m>\u001b[39m R:\n\u001b[1;32m     81\u001b[0m     \u001b[38;5;28;01mif\u001b[39;00m \u001b[38;5;28mlen\u001b[39m(args_all) \u001b[38;5;241m<\u001b[39m\u001b[38;5;241m=\u001b[39m n_positional:\n\u001b[0;32m---> 82\u001b[0m         \u001b[38;5;28;01mreturn\u001b[39;00m \u001b[43mfn\u001b[49m\u001b[43m(\u001b[49m\u001b[38;5;241;43m*\u001b[39;49m\u001b[43margs_all\u001b[49m\u001b[43m,\u001b[49m\u001b[43m \u001b[49m\u001b[38;5;241;43m*\u001b[39;49m\u001b[38;5;241;43m*\u001b[39;49m\u001b[43mkw\u001b[49m\u001b[43m)\u001b[49m\n\u001b[1;32m     84\u001b[0m     args_pos: P\u001b[38;5;241m.\u001b[39margs\n\u001b[1;32m     85\u001b[0m     args_pos, args_rest \u001b[38;5;241m=\u001b[39m args_all[:n_positional], args_all[n_positional:]\n",
      "File \u001b[0;32m~/miniconda3/envs/scprnt2/lib/python3.10/site-packages/scanpy/readwrite.py:166\u001b[0m, in \u001b[0;36mread\u001b[0;34m(filename, backed, sheet, ext, delimiter, first_column_names, backup_url, cache, cache_compression, **kwargs)\u001b[0m\n\u001b[1;32m    158\u001b[0m \u001b[38;5;28;01mif\u001b[39;00m \u001b[38;5;129;01mnot\u001b[39;00m filename\u001b[38;5;241m.\u001b[39mexists():\n\u001b[1;32m    159\u001b[0m     msg \u001b[38;5;241m=\u001b[39m (\n\u001b[1;32m    160\u001b[0m         \u001b[38;5;124mf\u001b[39m\u001b[38;5;124m\"\u001b[39m\u001b[38;5;124mReading with filekey \u001b[39m\u001b[38;5;132;01m{\u001b[39;00mfilekey\u001b[38;5;132;01m!r}\u001b[39;00m\u001b[38;5;124m failed, \u001b[39m\u001b[38;5;124m\"\u001b[39m\n\u001b[1;32m    161\u001b[0m         \u001b[38;5;124mf\u001b[39m\u001b[38;5;124m\"\u001b[39m\u001b[38;5;124mthe inferred filename \u001b[39m\u001b[38;5;132;01m{\u001b[39;00mfilename\u001b[38;5;132;01m!r}\u001b[39;00m\u001b[38;5;124m does not exist. \u001b[39m\u001b[38;5;124m\"\u001b[39m\n\u001b[0;32m   (...)\u001b[0m\n\u001b[1;32m    164\u001b[0m         \u001b[38;5;124m\"\u001b[39m\u001b[38;5;124mor pass the parameter `ext`.\u001b[39m\u001b[38;5;124m\"\u001b[39m\n\u001b[1;32m    165\u001b[0m     )\n\u001b[0;32m--> 166\u001b[0m     \u001b[38;5;28;01mraise\u001b[39;00m \u001b[38;5;167;01mValueError\u001b[39;00m(msg)\n\u001b[1;32m    167\u001b[0m \u001b[38;5;28;01mreturn\u001b[39;00m read_h5ad(filename, backed\u001b[38;5;241m=\u001b[39mbacked)\n",
      "\u001b[0;31mValueError\u001b[0m: Reading with filekey 'gwps' failed, the inferred filename PosixPath('write/gwps.h5ad') does not exist. If you intended to provide a filename, either use a filename ending on one of the available extensions {'txt', 'tsv', 'csv', 'mtx', 'mtx.gz', 'soft.gz', 'loom', 'anndata', 'h5ad', 'h5', 'tab', 'data', 'xlsx'} or pass the parameter `ext`."
     ]
    }
   ],
   "source": [
    "gwps = get_perturb_gt('gwps')\n",
    "gwps.var['symbol'] = gwps.var.gene_name"
   ]
  },
  {
   "cell_type": "code",
   "execution_count": 8,
   "metadata": {},
   "outputs": [
    {
     "name": "stderr",
     "output_type": "stream",
     "text": [
      "/pasteur/appa/homes/jkalfon/miniconda3/envs/scprint17/lib/python3.10/site-packages/anndata/__init__.py:51: FutureWarning: `anndata.read` is deprecated, use `anndata.read_h5ad` instead. `ad.read` will be removed in mid 2024.\n",
      "  warnings.warn(\n",
      "/pasteur/appa/homes/jkalfon/benGRN/bengrn/base.py:544: ImplicitModificationWarning: Trying to modify attribute `.obs` of view, initializing view as actual.\n",
      "  adata_sc.obs[\"organism_ontology_term_id\"] = \"NCBITaxon:9606\"\n"
     ]
    }
   ],
   "source": [
    "#GWPS\n",
    "gwps = get_perturb_gt('gwps')\n",
    "gwps.var['symbol'] = gwps.var.gene_name"
   ]
  },
  {
   "cell_type": "code",
   "execution_count": 16,
   "metadata": {},
   "outputs": [
    {
     "data": {
      "text/plain": [
       "3033"
      ]
     },
     "execution_count": 16,
     "metadata": {},
     "output_type": "execute_result"
    }
   ],
   "source": [
    "(values==0).sum()"
   ]
  },
  {
   "cell_type": "code",
   "execution_count": 41,
   "metadata": {},
   "outputs": [
    {
     "name": "stderr",
     "output_type": "stream",
     "text": [
      "/local/scratch/tmp/ipykernel_1222996/4088921595.py:6: UserWarning: Attempt to set non-positive xlim on a log-scaled axis will be ignored.\n",
      "  plt.xlim(0, 2000)\n"
     ]
    },
    {
     "data": {
      "image/png": "[encoded data removed]",
      "text/plain": [
       "<Figure size 640x480 with 1 Axes>"
      ]
     },
     "metadata": {},
     "output_type": "display_data"
    }
   ],
   "source": [
    "values = gwps.varp['GRN'].sum(1)+1\n",
    "sns.histplot(values, bins=100, log_scale=(True, False), fill=True)\n",
    "plt.title('Distribution of Values (Log Scale)')\n",
    "plt.xlabel('Value')\n",
    "plt.ylabel('Frequency')\n",
    "plt.xlim(0, 2000)\n",
    "plt.yscale('log')\n",
    "plt.show()"
   ]
  },
  {
   "cell_type": "code",
   "execution_count": 38,
   "metadata": {},
   "outputs": [
    {
     "data": {
      "image/png": "[encoded data removed]",
      "text/plain": [
       "<Figure size 640x480 with 1 Axes>"
      ]
     },
     "metadata": {},
     "output_type": "display_data"
    }
   ],
   "source": [
    "import seaborn as sns\n",
    "import matplotlib.pyplot as plt\n",
    "\n",
    "values = sroy.varp['GRN'].sum(1)+1\n",
    "sns.histplot(values, bins=20, log_scale=(True, False))\n",
    "plt.title('Distribution of Values (Log Scale)')\n",
    "plt.xlabel('Value')\n",
    "plt.ylabel('Frequency')\n",
    "plt.yscale('log')\n",
    "plt.show()"
   ]
  },
  {
   "cell_type": "markdown",
   "metadata": {},
   "source": [
    "# SROY"
   ]
  },
  {
   "cell_type": "code",
   "execution_count": null,
   "metadata": {},
   "outputs": [
    {
     "name": "stdout",
     "output_type": "stream",
     "text": [
      "loading GT,  omnipath\n",
      "intersection of 5421 genes\n",
      "intersection pct: 0.7261888814467515\n",
      "precision:  0.05196431366411019 \n",
      "recall:  0.007354732947874438 \n",
      "random precision: 0.0015363581970075373\n"
     ]
    },
    {
     "name": "stderr",
     "output_type": "stream",
     "text": [
      " 99%|█████████▉| 127/128 [00:11<00:00, 12.24it/s]/pasteur/appa/homes/jkalfon/benGRN/bengrn/base.py:749: RuntimeWarning: invalid value encountered in scalar divide\n",
      "  precision = (grn[true] > threshold).sum() / (grn > threshold).sum()\n",
      "100%|██████████| 128/128 [00:11<00:00, 11.42it/s]\n"
     ]
    },
    {
     "name": "stdout",
     "output_type": "stream",
     "text": [
      "Area Under Precision-Recall Curve (AUPRC):  0.0017161505176658254\n",
      "EPR: 4.961930966011397\n"
     ]
    },
    {
     "data": {
      "image/png": "[encoded data removed]",
      "text/plain": [
       "<Figure size 1000x800 with 1 Axes>"
      ]
     },
     "metadata": {},
     "output_type": "display_data"
    },
    {
     "data": {
      "text/plain": [
       "{'precision': 0.05196431366411019,\n",
       " 'recall': 0.007354732947874438,\n",
       " 'rand_precision': 0.0015363581970075373,\n",
       " 'auprc': 0.0017161505176658254,\n",
       " 'epr': 4.961930966011397}"
      ]
     },
     "execution_count": 39,
     "metadata": {},
     "output_type": "execute_result"
    }
   ],
   "source": [
    "#SROY\n",
    "#OMNIPATH\n",
    "BenGRN(sroy).compare_to(to=\"omnipath\")"
   ]
  },
  {
   "cell_type": "code",
   "execution_count": null,
   "metadata": {},
   "outputs": [
    {
     "data": {
      "text/plain": [
       "31"
      ]
     },
     "execution_count": 40,
     "metadata": {},
     "output_type": "execute_result"
    }
   ],
   "source": [
    "(sroy.varp['GRN'].sum(1)>0).sum()"
   ]
  },
  {
   "cell_type": "code",
   "execution_count": null,
   "metadata": {},
   "outputs": [
    {
     "name": "stdout",
     "output_type": "stream",
     "text": [
      "loading GT,  omnipath\n",
      "intersection of 5421 genes\n",
      "intersection pct: 0.7261888814467515\n",
      "precision:  0.015495382688996712 \n",
      "recall:  0.0021931281983119558 \n",
      "random precision: 0.0015363581970075373\n"
     ]
    },
    {
     "name": "stderr",
     "output_type": "stream",
     "text": [
      " 98%|█████████▊| 126/128 [00:10<00:00, 11.13it/s]/pasteur/appa/homes/jkalfon/benGRN/bengrn/base.py:749: RuntimeWarning: invalid value encountered in scalar divide\n",
      "  precision = (grn[true] > threshold).sum() / (grn > threshold).sum()\n",
      "100%|██████████| 128/128 [00:10<00:00, 12.23it/s]\n"
     ]
    },
    {
     "name": "stdout",
     "output_type": "stream",
     "text": [
      "Area Under Precision-Recall Curve (AUPRC):  0.0015499804468824092\n",
      "EPR: 1.5309086549993332\n"
     ]
    },
    {
     "data": {
      "image/png": "[encoded data removed]",
      "text/plain": [
       "<Figure size 1000x800 with 1 Axes>"
      ]
     },
     "metadata": {},
     "output_type": "display_data"
    },
    {
     "data": {
      "text/plain": [
       "{'precision': 0.015495382688996712,\n",
       " 'recall': 0.0021931281983119558,\n",
       " 'rand_precision': 0.0015363581970075373,\n",
       " 'auprc': 0.0015499804468824092,\n",
       " 'epr': 1.5309086549993332}"
      ]
     },
     "execution_count": 41,
     "metadata": {},
     "output_type": "execute_result"
    }
   ],
   "source": [
    "sroy.varp['GRN'] = sroy.varp['GRN'].T\n",
    "BenGRN(sroy).compare_to(to=\"omnipath\")"
   ]
  },
  {
   "cell_type": "code",
   "execution_count": null,
   "metadata": {},
   "outputs": [
    {
     "data": {
      "text/plain": [
       "4141"
      ]
     },
     "execution_count": 42,
     "metadata": {},
     "output_type": "execute_result"
    }
   ],
   "source": [
    "(sroy.varp['GRN'].sum(1)>0).sum()"
   ]
  },
  {
   "cell_type": "markdown",
   "metadata": {},
   "source": [
    "# GWPS"
   ]
  },
  {
   "cell_type": "code",
   "execution_count": null,
   "metadata": {},
   "outputs": [],
   "source": [
    "gwps.var['ensembl_id'] = gwps.var.index\n",
    "gwps.var.index = gwps.var.gene_name.astype(str)"
   ]
  },
  {
   "cell_type": "code",
   "execution_count": null,
   "metadata": {},
   "outputs": [
    {
     "data": {
      "text/plain": [
       "(5530, 6384)"
      ]
     },
     "execution_count": 50,
     "metadata": {},
     "output_type": "execute_result"
    }
   ],
   "source": [
    "(gwps.varp['GRN'].sum(1)>0).sum(), (gwps.varp['GRN'].sum(0)>0).sum()"
   ]
  },
  {
   "cell_type": "code",
   "execution_count": null,
   "metadata": {},
   "outputs": [],
   "source": []
  },
  {
   "cell_type": "code",
   "execution_count": null,
   "metadata": {},
   "outputs": [
    {
     "name": "stdout",
     "output_type": "stream",
     "text": [
      "loading GT,  omnipath\n",
      "intersection of 5727 genes\n",
      "intersection pct: 0.6688076608665188\n",
      "precision:  0.001522780666789853 \n",
      "recall:  0.021875148125325875 \n",
      "random precision: 0.0012862355421199006\n",
      "EPR: 1.2537787690006579\n"
     ]
    },
    {
     "data": {
      "image/png": "[encoded data removed]",
      "text/plain": [
       "<Figure size 1000x800 with 1 Axes>"
      ]
     },
     "metadata": {},
     "output_type": "display_data"
    },
    {
     "data": {
      "text/plain": [
       "{'precision': 0.001522780666789853,\n",
       " 'recall': 0.021875148125325875,\n",
       " 'rand_precision': 0.0012862355421199006,\n",
       " 'epr': 1.2537787690006579}"
      ]
     },
     "execution_count": 51,
     "metadata": {},
     "output_type": "execute_result"
    }
   ],
   "source": [
    "BenGRN(gwps, do_auc=False).compare_to(to=\"omnipath\")"
   ]
  },
  {
   "cell_type": "code",
   "execution_count": null,
   "metadata": {},
   "outputs": [
    {
     "name": "stdout",
     "output_type": "stream",
     "text": [
      "loading GT,  omnipath\n",
      "intersection of 5727 genes\n",
      "intersection pct: 0.6688076608665188\n",
      "precision:  0.0029630705065596705 \n",
      "recall:  0.042565293643646016 \n",
      "random precision: 0.0012862355421199006\n",
      "EPR: 0.6443167919241747\n"
     ]
    },
    {
     "data": {
      "image/png": "[encoded data removed]",
      "text/plain": [
       "<Figure size 1000x800 with 1 Axes>"
      ]
     },
     "metadata": {},
     "output_type": "display_data"
    },
    {
     "data": {
      "text/plain": [
       "{'precision': 0.0029630705065596705,\n",
       " 'recall': 0.042565293643646016,\n",
       " 'rand_precision': 0.0012862355421199006,\n",
       " 'epr': 0.6443167919241747}"
      ]
     },
     "execution_count": 28,
     "metadata": {},
     "output_type": "execute_result"
    }
   ],
   "source": [
    "gwps.varp['GRN'] = gwps.varp['GRN'].T\n",
    "BenGRN(gwps, do_auc=False).compare_to(to=\"omnipath\")"
   ]
  },
  {
   "cell_type": "code",
   "execution_count": null,
   "metadata": {},
   "outputs": [
    {
     "name": "stderr",
     "output_type": "stream",
     "text": [
      "/home/ml4ig1/Documents code/benGRN/bengrn/base.py:665: RuntimeWarning: divide by zero encountered in log10\n",
      "  thresholds = np.logspace(np.log10(grn.min()), np.log10(grn.max()), 50)\n",
      "/home/ml4ig1/miniconda3/envs/scprint/lib/python3.10/site-packages/numpy/core/function_base.py:151: RuntimeWarning: invalid value encountered in multiply\n",
      "  y *= step\n",
      "/home/ml4ig1/miniconda3/envs/scprint/lib/python3.10/site-packages/numpy/core/function_base.py:161: RuntimeWarning: invalid value encountered in add\n",
      "  y += start\n"
     ]
    },
    {
     "name": "stdout",
     "output_type": "stream",
     "text": [
      "precision:  0.01108829568788501 \n",
      "recall:  0.020785219399538105 \n",
      "random precision: 0.00979697115964764\n"
     ]
    },
    {
     "name": "stderr",
     "output_type": "stream",
     "text": [
      "  0%|          | 0/99 [00:00<?, ?it/s]/home/ml4ig1/Documents code/benGRN/bengrn/base.py:671: RuntimeWarning: invalid value encountered in long_scalars\n",
      "  precision = (grn[true] > threshold).sum() / (grn > threshold).sum()\n",
      "100%|██████████| 99/99 [00:00<00:00, 1061.81it/s]"
     ]
    },
    {
     "name": "stdout",
     "output_type": "stream",
     "text": [
      "Area Under Precision-Recall Curve (AUPRC):  0.010340817326264214\n",
      "EPR: 0.7824397043431892\n"
     ]
    },
    {
     "name": "stderr",
     "output_type": "stream",
     "text": [
      "\n"
     ]
    },
    {
     "data": {
      "image/png": "[encoded data removed]",
      "text/plain": [
       "<Figure size 1000x800 with 1 Axes>"
      ]
     },
     "metadata": {},
     "output_type": "display_data"
    },
    {
     "data": {
      "text/plain": [
       "{'precision': 0.01108829568788501,\n",
       " 'recall': 0.020785219399538105,\n",
       " 'rand_precision': 0.00979697115964764,\n",
       " 'auprc': 0.010340817326264214,\n",
       " 'EPR': 0.7824397043431892}"
      ]
     },
     "execution_count": 16,
     "metadata": {},
     "output_type": "execute_result"
    }
   ],
   "source": [
    "#SROY\n",
    "#GWPS\n",
    "BenGRN(gwps).compare_to(sroy)"
   ]
  },
  {
   "cell_type": "code",
   "execution_count": null,
   "metadata": {},
   "outputs": [],
   "source": []
  },
  {
   "cell_type": "code",
   "execution_count": null,
   "metadata": {},
   "outputs": [],
   "source": []
  },
  {
   "cell_type": "code",
   "execution_count": null,
   "metadata": {},
   "outputs": [],
   "source": []
  },
  {
   "cell_type": "code",
   "execution_count": null,
   "metadata": {},
   "outputs": [],
   "source": []
  }
 ],
 "metadata": {
  "kernelspec": {
   "display_name": "scprnt2",
   "language": "python",
   "name": "python3"
  },
  "language_info": {
   "codemirror_mode": {
    "name": "ipython",
    "version": 3
   },
   "file_extension": ".py",
   "mimetype": "text/x-python",
   "name": "python",
   "nbconvert_exporter": "python",
   "pygments_lexer": "ipython3",
   "version": "3.10.16"
  }
 },
 "nbformat": 4,
 "nbformat_minor": 2
}
